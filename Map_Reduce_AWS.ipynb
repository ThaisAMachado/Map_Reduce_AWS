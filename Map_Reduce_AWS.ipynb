{
 "cells": [
  {
   "cell_type": "markdown",
   "id": "ff4ad324",
   "metadata": {},
   "source": [
    "## Pacotes"
   ]
  },
  {
   "cell_type": "code",
   "execution_count": 59,
   "id": "b8c600ed",
   "metadata": {},
   "outputs": [],
   "source": [
    "import string\n",
    "import io\n",
    "import matplotlib.pyplot as plt\n",
    "import base64\n",
    "import openpyxl\n",
    "import re\n",
    "import unicodedata\n",
    "import nltk\n",
    "import boto3\n",
    "from boto.s3.connection import S3Connection\n",
    "import ssl\n",
    "from botocore.exceptions import NoCredentialsError\n",
    "from collections import Counter\n",
    "from pdfminer.pdfinterp import PDFResourceManager, PDFPageInterpreter\n",
    "from pdfminer.converter import TextConverter\n",
    "from pdfminer.layout import LAParams\n",
    "from pdfminer.pdfpage import PDFPage"
   ]
  },
  {
   "cell_type": "markdown",
   "id": "9d015905",
   "metadata": {},
   "source": [
    "## Stopwords"
   ]
  },
  {
   "cell_type": "code",
   "execution_count": 10,
   "id": "c0f91b6e",
   "metadata": {},
   "outputs": [
    {
     "name": "stderr",
     "output_type": "stream",
     "text": [
      "[nltk_data] Downloading package stopwords to\n",
      "[nltk_data]     C:\\Users\\thais\\AppData\\Roaming\\nltk_data...\n",
      "[nltk_data]   Package stopwords is already up-to-date!\n",
      "[nltk_data] Downloading package punkt to\n",
      "[nltk_data]     C:\\Users\\thais\\AppData\\Roaming\\nltk_data...\n",
      "[nltk_data]   Package punkt is already up-to-date!\n"
     ]
    }
   ],
   "source": [
    "# Fazendo o download das stopwords\n",
    "nltk.download('stopwords')\n",
    "nltk.download('punkt')"
   ]
  },
  {
   "cell_type": "code",
   "execution_count": 34,
   "id": "3b7018a0",
   "metadata": {},
   "outputs": [],
   "source": [
    "# Lista de stopwords em português e inglês\n",
    "stop_words_pt = set(nltk.corpus.stopwords.words('portuguese'))\n",
    "stop_words_en = set(nltk.corpus.stopwords.words('english'))"
   ]
  },
  {
   "cell_type": "markdown",
   "id": "7476b175",
   "metadata": {},
   "source": [
    "## Funções"
   ]
  },
  {
   "cell_type": "code",
   "execution_count": 60,
   "id": "889fd62d",
   "metadata": {},
   "outputs": [],
   "source": [
    "def convert_pdf_to_txt(path):\n",
    "    rsrcmgr = PDFResourceManager()\n",
    "    retstr = io.StringIO()\n",
    "    codec = 'utf-8'\n",
    "    laparams = LAParams()\n",
    "    device = TextConverter(rsrcmgr, retstr, laparams=laparams)\n",
    "    fp = open(path, 'rb')\n",
    "    interpreter = PDFPageInterpreter(rsrcmgr, device)\n",
    "    password = \"\"\n",
    "    maxpages = 0\n",
    "    caching = True\n",
    "    pagenos = set()\n",
    "\n",
    "    for page in PDFPage.get_pages(fp, pagenos, maxpages=maxpages,\n",
    "                                  password=password,\n",
    "                                  caching=caching,\n",
    "                                  check_extractable=True):\n",
    "        interpreter.process_page(page)\n",
    "\n",
    "    fp.close()\n",
    "    device.close()\n",
    "    text = retstr.getvalue()\n",
    "    retstr.close()\n",
    "    return text\n",
    "\n",
    "\n",
    "def remove_pontuacao(text):\n",
    "    # Remove acentos e caracteres especiais\n",
    "    texto_sem_acentos = ''.join(c for c in unicodedata.normalize('NFD', text) if unicodedata.category(c) != 'Mn')\n",
    "    \n",
    "    # Remove pontuações\n",
    "    texto_puro = re.sub(r'[^\\w\\s]', '', texto_sem_acentos).lower()\n",
    "    \n",
    "    return texto_puro\n",
    "\n",
    "\n",
    "def mapa(text):\n",
    "    texto = remove_pontuacao(text)\n",
    "    palavras = texto.split()\n",
    "    numero_palavras = Counter(palavras)\n",
    "    return numero_palavras\n",
    "\n",
    "\n",
    "def reduce(palavras):\n",
    "    dic = {}\n",
    "    \n",
    "    for p in palavras:\n",
    "        if(p in stop_words_pt or p in stop_words_en or p == \"nao\" or p == \"sao\" or p == \"pode\" or p == \"cada\" or p == \" \" or p == \"\" or p == \"-\" or len(p) in [1, 2]): \n",
    "                continue\n",
    "        dic[p] = palavras[p]\n",
    "    \n",
    "    return dic    \n",
    "\n",
    "\n",
    "def grava_imagem(mapa):\n",
    "    mapaPlot = {}\n",
    "    cont = 0\n",
    "    for i in sorted(mapa, key=mapa.get, reverse=True):\n",
    "        if(cont > 20):\n",
    "            break;\n",
    "        \n",
    "        cont += 1\n",
    "        mapaPlot[i] = mapa[i]\n",
    "        \n",
    "    plt.barh(list(mapaPlot.keys()), mapaPlot.values())\n",
    "    plt.gca().invert_yaxis()\n",
    "    plt.savefig('FrequenciaPalavras_ThaisMachado.png', format='png')\n",
    "    plt.show()  \n",
    "    plt.close()   \n",
    "    \n",
    "    \n",
    "def grava_planilha_xlsx(dict, n, file_name):\n",
    "    \n",
    "    mapa = {}\n",
    "    cont = 1\n",
    "    for i in sorted(dict, key=dict.get, reverse=True):\n",
    "        if(cont > n):\n",
    "            break;\n",
    "        cont += 1\n",
    "        mapa[i] = dict[i]\n",
    "        \n",
    "    # Cria um novo arquivo Excel\n",
    "    workbook = openpyxl.Workbook()\n",
    "    \n",
    "    # Seleciona a primeira planilha\n",
    "    sheet = workbook.active\n",
    "    \n",
    "    # Adiciona cabeçalhos\n",
    "    sheet[\"A1\"] = \"Palavra\"\n",
    "    sheet[\"B1\"] = \"Frequência\"\n",
    "    \n",
    "    # Preenche a planilha com os dados do dicionário\n",
    "    row = 2\n",
    "    for palavra, frequencia in mapa.items():\n",
    "        sheet[f\"A{row}\"] = palavra\n",
    "        sheet[f\"B{row}\"] = frequencia\n",
    "        row += 1\n",
    "    \n",
    "    # Salva o arquivo\n",
    "    workbook.save(file_name)"
   ]
  },
  {
   "cell_type": "code",
   "execution_count": 28,
   "id": "e5598618",
   "metadata": {},
   "outputs": [],
   "source": [
    "palavras = convert_pdf_to_txt(\"ciencia_dados.pdf\")"
   ]
  },
  {
   "cell_type": "code",
   "execution_count": 61,
   "id": "97b5f25d",
   "metadata": {},
   "outputs": [],
   "source": [
    "mapa = mapa(palavras)"
   ]
  },
  {
   "cell_type": "code",
   "execution_count": 62,
   "id": "24c8ede1",
   "metadata": {},
   "outputs": [
    {
     "data": {
      "image/png": "[encoded data removed]",
      "text/plain": [
       "<Figure size 640x480 with 1 Axes>"
      ]
     },
     "metadata": {},
     "output_type": "display_data"
    }
   ],
   "source": [
    "resultado = reduce(mapa)\n",
    "grava_imagem(resultado)"
   ]
  },
  {
   "cell_type": "code",
   "execution_count": 43,
   "id": "2ce5b288",
   "metadata": {},
   "outputs": [],
   "source": [
    "grava_planilha_xlsx(resultado, 30, \"FrequenciaPalavras_ThaisMachado.xlsx\")"
   ]
  },
  {
   "cell_type": "code",
   "execution_count": 48,
   "id": "16927725",
   "metadata": {},
   "outputs": [],
   "source": [
    "ACCESS_KEY = 'ACCESS_KEY'\n",
    "SECRET_KEY = 'SECRET_KEY'\n",
    "BUCKET_NAME = 'datalake-turma5.1'\n",
    "FILE_NAME = 'metadados/FrequenciaPalavras_ThaisMachado.xlsx'"
   ]
  },
  {
   "cell_type": "code",
   "execution_count": 46,
   "id": "32ed0ad2",
   "metadata": {},
   "outputs": [],
   "source": [
    "s3 = boto3.client('s3', aws_access_key_id=ACCESS_KEY, aws_secret_access_key=SECRET_KEY)"
   ]
  },
  {
   "cell_type": "code",
   "execution_count": 55,
   "id": "673c1ff4",
   "metadata": {},
   "outputs": [
    {
     "name": "stdout",
     "output_type": "stream",
     "text": [
      "Arquivo enviado com sucesso para o bucket da AWS!\n"
     ]
    }
   ],
   "source": [
    "try:\n",
    "    # Enviar arquivo para o bucket\n",
    "    with open(\"FrequenciaPalavras_ThaisMachado.xlsx\", 'rb') as data:\n",
    "        s3.put_object(Bucket=BUCKET_NAME, Key=FILE_NAME, Body=data)\n",
    "    print(\"Arquivo enviado com sucesso para o bucket da AWS!\")\n",
    "except FileNotFoundError:\n",
    "    print(\"O arquivo não foi encontrado.\")\n",
    "except NoCredentialsError:\n",
    "    print(\"Credenciais não encontradas.\")"
   ]
  },
  {
   "cell_type": "code",
   "execution_count": 56,
   "id": "4726d11a",
   "metadata": {},
   "outputs": [
    {
     "name": "stdout",
     "output_type": "stream",
     "text": [
      "b'Json/'\n",
      "b'Json/Edmilson/Jogos Flamengo - Edmilson.json'\n",
      "b'Json/Flamengo_Jogos_Lucas_Furtado.json'\n",
      "b'Json/Igor_Moreira/Bragantino_jogos_IgorMoreira.json'\n",
      "b'Json/Jogos Atletico MG Pamela.Json'\n",
      "b'Json/Jogos Atletico Mineiro Pamela.Json'\n",
      "b'Json/Jogos Brasileiro Matheus Maquine.Json'\n",
      "b'Json/Jogos Brasileiro Nelson.Json'\n",
      "b'Json/Jogos Cruzeiro Clara.Json'\n",
      "b'Json/Jogos_Brasileiro_Cruzeiro_JoaoPaulo.json'\n",
      "b'Json/Mauricio_Bortoleto.json'\n",
      "b'Json/Raphael/Jogos brasileiro Raphael.json'\n",
      "b'Json/Sandra/Cruzeiro_jogos_Sandra.json'\n",
      "b'Json/Thais_Oliveira/Palmeiras_jogos_Thais.json'\n",
      "b'Json/Tha\\xc3\\xads_Oliveira/Palmeiras_jogos_Tha\\xc3\\xads.json'\n",
      "b'Json/botafogoRJ_lucas_jose.json'\n",
      "b'Json/hyagomesquita/jogos_vencidos_sao_paulo.json'\n",
      "b'Json/lesley_dias/lesley_dias.json'\n",
      "b'Planilhas/Flamengo_Jogos_Lucas_Furtado.xlsx'\n",
      "b'Planilhas/Igor_Moreira/Bragantino_jogos_IgorMoreira.xlsx'\n",
      "b'Planilhas/Mauricio_Bortoleto.xlsx'\n",
      "b'Planilhas/Sandra/Cruzeiro_jogos_Sandra.xlsx'\n",
      "b'Planilhas/Thais_Oliveira/Palmeiras_jogos_Thais.xlsx'\n",
      "b'Planilhas/Tha\\xc3\\xads_Oliveira/Palmeiras_jogos_Tha\\xc3\\xads.xlsx'\n",
      "b'Resultado_carla_america_rn.png'\n",
      "b'arquivos_sequencial/'\n",
      "b'arquivos_sequencial/jogos.txt'\n",
      "b'fernando_xavier.json'\n",
      "b'fernando_xavier.xlsx'\n",
      "b'json/274780299507.json'\n",
      "b'json/779827101175.json'\n",
      "b'json/931133819899.json'\n",
      "b'json/948072849350.json'\n",
      "b'json/952694765993.json'\n",
      "b'json/994944058146.json'\n",
      "b'metadados/'\n",
      "b'metadados/Atividade_V_Clara_Massote.xlsx'\n",
      "b'metadados/Edmilson/Mais_frequentes_edmilson.xlsx'\n",
      "b'metadados/FrequenciaPalavras_ThaisMachado.xlsx'\n",
      "b'metadados/Igor_Moreira/Top_30_palavras_Igor_Moreira.xlsx'\n",
      "b'metadados/Jogos Brasileiro Matheus Maquine.xlsx'\n",
      "b'metadados/MatheusMaquine.xlsx.xlsx'\n",
      "b'metadados/Mauricio_Bortoleto.xlsx'\n",
      "b'metadados/Metadados_JoaoPauloCarneiro.xlsx'\n",
      "b'metadados/Pamela.xlsx'\n",
      "b'metadados/Raphael-Palavras_Frequentes.xlsx'\n",
      "b'metadados/Top30_Dizan.xlsx'\n",
      "b'metadados/Top30_Palavras_Lucas_Jose.xlsx'\n",
      "b'metadados/Top_30_palavras_Lucas_Furtado.xlsx'\n",
      "b'metadados/hyagomesquita.xlsx'\n",
      "b'planilhas/'\n",
      "b'planilhas/537972043664.xlsx'\n",
      "b'planilhas/604747293100.xlsx'\n",
      "b'planilhas/832701598559.xlsx'\n",
      "b'planilhas/883107549215.xlsx'\n",
      "b'planilhas/Dizan.json'\n",
      "b'planilhas/Dizan.xlsx'\n",
      "b'planilhas/Edmilson/Jogos Flamengo - Edmilson.xlsx'\n",
      "b'planilhas/JaimeJogos Brasileiro Jaime.xlsx'\n",
      "b'planilhas/JaimeMetadados_Jaime.xlsx'\n",
      "b'planilhas/Jogos Atletico MG Pamela.xlsx'\n",
      "b'planilhas/Jogos Atletico Mineiro Pamela.xlsx'\n",
      "b'planilhas/Jogos Brasileiro Jaime.xlsx'\n",
      "b'planilhas/Jogos Brasileiro Matheus Maquine.xlsx'\n",
      "b'planilhas/Jogos Brasileiro Nelson.xlsx'\n",
      "b'planilhas/Jogos Brasileiro Pamela.xlsx'\n",
      "b'planilhas/Jogos Brasileiro ThaisMachado.xlsx'\n",
      "b'planilhas/Jogos Cruzeiro Clara.xlsx'\n",
      "b'planilhas/Jogos_Brasileiro_Cruzeiro_JoaoPaulo.xlsx'\n",
      "b'planilhas/MunicipiosSP.csv'\n",
      "b'planilhas/Pamela.xlsx'\n",
      "b'planilhas/Raphael/Jogos brasileiro Raphael.xlsx'\n",
      "b'planilhas/botafogoRJ_lucas_jose.xlsx'\n",
      "b'planilhas/hyagomesquita/jogos_vencidos_sao_paulo.xlsx'\n",
      "b'prova/'\n",
      "b'prova/299588600290.xlsx'\n",
      "b'prova/420118158061.json'\n",
      "b'prova/495421688219.json'\n",
      "b'prova/49656175517.json'\n",
      "b'prova/575427679291.json'\n",
      "b'prova/794697910636.json'\n",
      "b'prova/895702922132.xlsx'\n",
      "b'prova/A-francinvaldo_silva.json'\n",
      "b'prova/A-francinvaldo_silva.xlsx'\n",
      "b'prova/B-francinvaldo_silva.json'\n",
      "b'prova/B-francinvaldo_silva.xlsx'\n",
      "b'prova/C-francinvaldo_silva.json'\n",
      "b'prova/C-francinvaldo_silva.xlsx'\n",
      "b'prova/D-francinvaldo_silva.json'\n",
      "b'prova/D-francinvaldo_silva.xlsx'\n",
      "b'prova/Leticia_Teixeira.json'\n",
      "b'prova/Leticia_Teixeira.xlsx'\n",
      "b\"prova/b'ew0KICAgICJBX2hvbWVucyI6ICJPIG11bmljXHUwMGVkcGlvIGNvbSBtYWlzIHBlc3NvYXMgbmEgZmFpeGEgZXRcdTAwZTFyaWEgZGUgNDAgYSA0NCBhbm9zIFx1MDBlOTogU1x1MDBlM28gUGF1bG8iDQp9'.json\"\n",
      "b\"prova/b'ew0KICAgICJBX2hvbWVucyI6ICJPIG11bmljXHUwMGVkcGlvIGNvbSBtYWlzIHBlc3NvYXMgbmEgZmFpeGEgZXRcdTAwZTFyaWEgZGUgNDAgYSA0NCBhbm9zIFx1MDBlOTogU1x1MDBlM28gUGF1bG8iDQp9'.xlsx\"\n",
      "b'prova/fernando_xavier.json'\n",
      "b'prova/fernando_xavier.xlsx'\n",
      "b'prova/francinvaldo_silva.json'\n",
      "b'prova/gabriel_albertin.json'\n",
      "b'prova/gabriel_albertin.png'\n",
      "b'prova/gabriel_albertin.xlsx'\n",
      "b'prova/mauricio_fontes.json'\n",
      "b'prova/mauricio_fontes.xlsx'\n",
      "b'prova/prova_nelson.xls'\n",
      "b'prova335512038959.xlsx'\n",
      "b'prova439282239954.xlsx'\n",
      "b'prova476249103154.xlsx'\n",
      "b'prova897148248217.xlsx'\n",
      "b'resultados/'\n",
      "b'resultados/Bragantino_perdeu_Matheus.png'\n",
      "b'resultados/Jogos_Brasileiro_Atletico_MG_Perdeu_Pamela.png'\n",
      "b'resultados/Jogos_Brasileiro_Corinthians_Venceu_Nelson.png'\n",
      "b'resultados/Jogos_Brasileiro_Cruzeiro_JoaoPaulo.png'\n",
      "b'resultados/Jogos_Brasileiro_Cruzeiro_Perdeu_RaphaelCosta.png'\n",
      "b'resultados/Jogos_Brasileiro_Cruzeiro_Perdeu_Sandra.png'\n",
      "b'resultados/Jogos_Brasileiro_Flamengo_Perdeu_Mauricio_Bortoleto.png'\n",
      "b'resultados/Jogos_Brasileiro_Flamengo_Perdeu_ThaisMachado.png'\n",
      "b'resultados/Jogos_Brasileiro_Palmeiras_Perdeu_Lesley.png'\n",
      "b'resultados/Jogos_Brasileiro_Vasco_Perdeu_Dizan.png'\n",
      "b'resultados/Resultado_carla_america_rn.png'\n",
      "b'resultados/esultado_IgorMoreira.png.png'\n",
      "b'resultados/esultado_thais.png'\n",
      "b'resultados/nalise_confronto_IgorMoreira.png'\n",
      "b'resultados/ogos_Brasileiro_Bragantino_Perdeu_Nelson.png'\n",
      "b'resultados/ogos_Brasileiro_Palmeiras.png'\n",
      "b'xlsx/lesley_dias/lesley_dias.xlsx'\n"
     ]
    }
   ],
   "source": [
    "ssl._create_default_https_context = ssl._create_unverified_context\n",
    "conn = S3Connection('ACCESS_KEY', 'SECRET_KEY')\n",
    "bucket = conn.get_bucket('datalake-turma5.1')\n",
    "\n",
    "for key in bucket.list():\n",
    "    print(key.name.encode('utf-8'))"
   ]
  },
  {
   "cell_type": "code",
   "execution_count": null,
   "id": "58ee59d8",
   "metadata": {},
   "outputs": [],
   "source": []
  }
 ],
 "metadata": {
  "kernelspec": {
   "display_name": "Python 3 (ipykernel)",
   "language": "python",
   "name": "python3"
  },
  "language_info": {
   "codemirror_mode": {
    "name": "ipython",
    "version": 3
   },
   "file_extension": ".py",
   "mimetype": "text/x-python",
   "name": "python",
   "nbconvert_exporter": "python",
   "pygments_lexer": "ipython3",
   "version": "3.9.13"
  }
 },
 "nbformat": 4,
 "nbformat_minor": 5
}
